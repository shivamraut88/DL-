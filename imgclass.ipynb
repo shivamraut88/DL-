{
 "cells": [
  {
   "cell_type": "code",
   "execution_count": null,
   "id": "743846c7-84b7-4911-a3be-56cb8c524709",
   "metadata": {},
   "outputs": [],
   "source": [
    "import tensorflow as tf \n",
    "from keras.models import Sequential\n",
    "from keras.layers import Dense, Conv2D, Dropout, Flatten, MaxPooling2D\n",
    "import matplotlib.pyplot as plt\n",
    "import numpy as np"
   ]
  },
  {
   "cell_type": "code",
   "execution_count": null,
   "id": "0c5fb95f-aad5-4bb0-bf26-1ef7278c11ee",
   "metadata": {},
   "outputs": [],
   "source": [
    "mnist = tf.keras.datasets.mnist\n",
    "(x_train,y_train), (x_test,y_test)= mnist.load_data()\n",
    "input_shape = (28,28,1)"
   ]
  },
  {
   "cell_type": "code",
   "execution_count": null,
   "id": "394f0a38-d7eb-4ab2-886a-82ca1886bc04",
   "metadata": {},
   "outputs": [],
   "source": [
    "x_train = x_train.reshape(x_train.shape[0], 28, 28, 1)\n",
    "x_test= x_test.reshape(x_test.shape[0], 28, 28, 1)"
   ]
  },
  {
   "cell_type": "code",
   "execution_count": null,
   "id": "e9728442-4ecc-4398-97f1-debfd7292fde",
   "metadata": {},
   "outputs": [],
   "source": [
    "x_train = x_train.astype('float32')\n",
    "x_test = x_test.astype('float32')"
   ]
  },
  {
   "cell_type": "code",
   "execution_count": null,
   "id": "a990cbd9-8f99-4a80-a072-ef3b0d50a804",
   "metadata": {},
   "outputs": [],
   "source": [
    "x_train = x_train / 255\n",
    "x_test = x_test / 255\n",
    "print(\"Shape of Training: \",x_train.shape)\n",
    "print(\"Shape of Testing: \",x_test.shape)"
   ]
  },
  {
   "cell_type": "code",
   "execution_count": null,
   "id": "2ad0a80e-2469-4840-a1f4-553e057225f2",
   "metadata": {},
   "outputs": [],
   "source": [
    "model = Sequential()\n",
    "model.add(Conv2D(28, kernel_size=(3,3), input_shape=input_shape))\n",
    "model.add(MaxPooling2D(pool_size=(2,2)))\n",
    "model.add(Flatten())\n",
    "model.add(Dense (200, activation = \"relu\"))\n",
    "model.add(Dropout (0.3))\n",
    "model.add(Dense (10, activation = \"softmax\"))"
   ]
  },
  {
   "cell_type": "code",
   "execution_count": null,
   "id": "abc5e9f8-50f7-46f9-bdf9-29224e472d1a",
   "metadata": {},
   "outputs": [],
   "source": [
    "model.summary()"
   ]
  },
  {
   "cell_type": "markdown",
   "id": "f8527412-6681-4d05-8fcc-f6f51d10a8c7",
   "metadata": {},
   "source": [
    "model.compile(optimizer='adam',loss='sparse_categorical_crossentropy',metrics=['accuracy'])\n",
    "model.fit(x_train,y_train, epochs= 10)"
   ]
  },
  {
   "cell_type": "code",
   "execution_count": null,
   "id": "1a5aabd6-cd1b-4693-81d7-f55706abc425",
   "metadata": {},
   "outputs": [],
   "source": [
    "test_loss, test_acc = model.evaluate(x_test, y_test)\n",
    "print(\"Loss=%.3f\" %test_loss)\n",
    "print(\"Accuracy=%.3f\" %test_acc)"
   ]
  },
  {
   "cell_type": "code",
   "execution_count": null,
   "id": "0d253039-c6dd-4af5-a146-397fc7b3ce22",
   "metadata": {},
   "outputs": [],
   "source": [
    "image = x_train[0]\n",
    "plt.imshow(np.squeeze(image), cmap='gray')\n",
    "plt.show()"
   ]
  },
  {
   "cell_type": "code",
   "execution_count": null,
   "id": "22bdbc56-0b41-4ee2-9041-35057ad851b4",
   "metadata": {},
   "outputs": [],
   "source": [
    "image=image.reshape(1, image.shape[0], image.shape[1], image.shape[2])\n",
    "predict_model = model.predict([image])\n",
    "print(\"Pedicted class: {}\".format(np.argmax (predict_model)))"
   ]
  },
  {
   "cell_type": "code",
   "execution_count": null,
   "id": "fe35562c-65b9-41e9-9e63-10cf6174092d",
   "metadata": {},
   "outputs": [],
   "source": []
  }
 ],
 "metadata": {
  "kernelspec": {
   "display_name": "Python 3 (ipykernel)",
   "language": "python",
   "name": "python3"
  },
  "language_info": {
   "codemirror_mode": {
    "name": "ipython",
    "version": 3
   },
   "file_extension": ".py",
   "mimetype": "text/x-python",
   "name": "python",
   "nbconvert_exporter": "python",
   "pygments_lexer": "ipython3",
   "version": "3.12.0"
  }
 },
 "nbformat": 4,
 "nbformat_minor": 5
}
